{
 "cells": [
  {
   "cell_type": "code",
   "execution_count": null,
   "metadata": {},
   "outputs": [],
   "source": [
    "from keras import backend as K\n",
    "from keras.layers import Layer"
   ]
  },
  {
   "cell_type": "code",
   "execution_count": null,
   "metadata": {},
   "outputs": [],
   "source": [
    "class ShakeShake(Layer):\n",
    "    \"\"\" Shake-Shake-Image Layer \"\"\"\n",
    "\n",
    "    def __init__(self, **kwargs):\n",
    "        super(ShakeShake, self).__init__(**kwargs)\n",
    "\n",
    "    def build(self, input_shape):\n",
    "        super(ShakeShake, self).build(input_shape)\n",
    "\n",
    "    def call(self, x):\n",
    "\n",
    "      # [1] Get the batch size by using the backend (K) and `.shape`\n",
    "\n",
    "      alpha = K.random_uniform((batch_size, 1, 1, 1))\n",
    "\n",
    "      beta = K.random_uniform((batch_size, 1, 1, 1))\n",
    "      # shake-shake during training phase\n",
    "      def x_shake():\n",
    "        return beta * x + K.stop_gradient((alpha - beta) * x)\n",
    "\n",
    "      # even-even during testing phase\n",
    "      def x_even():\n",
    "        return 0.5 * x\n",
    "\n",
    "      # [2] return the appropriate function based on the phase (HINT: look at the .in_train_phase documentation in the keras.io/backend webpage)\n",
    "\n",
    "    def compute_output_shape(self, input_shape):\n",
    "        return input_shape"
   ]
  }
 ],
 "metadata": {
  "kernelspec": {
   "display_name": "Python 3",
   "language": "python",
   "name": "python3"
  },
  "language_info": {
   "codemirror_mode": {
    "name": "ipython",
    "version": 3
   },
   "file_extension": ".py",
   "mimetype": "text/x-python",
   "name": "python",
   "nbconvert_exporter": "python",
   "pygments_lexer": "ipython3",
   "version": "3.7.1"
  }
 },
 "nbformat": 4,
 "nbformat_minor": 2
}
